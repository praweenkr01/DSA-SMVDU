{
  "nbformat": 4,
  "nbformat_minor": 0,
  "metadata": {
    "colab": {
      "name": "MultiClassClassificationUsingNN.ipynb",
      "provenance": []
    },
    "kernelspec": {
      "name": "python3",
      "display_name": "Python 3"
    }
  },
  "cells": [
    {
      "cell_type": "code",
      "metadata": {
        "id": "YKpcoYX20Ihg"
      },
      "source": [
        "import tensorflow.keras as keras\r\n",
        "from tensorflow.keras.layers import *\r\n",
        "from tensorflow.keras.models import *\r\n",
        "import matplotlib.pyplot as plt\r\n",
        "import numpy as np\r\n",
        "from sklearn.metrics import *"
      ],
      "execution_count": 1,
      "outputs": []
    },
    {
      "cell_type": "code",
      "metadata": {
        "id": "BQfYO-Ah0Oap"
      },
      "source": [
        "X = np.random.random((1000,100))\r\n",
        "y = np.random.random((1000,10))\r\n",
        "y=y/np.sum(y,axis=1).reshape((-1,1))\r\n",
        "y = np.argmax(y,axis=1)"
      ],
      "execution_count": 9,
      "outputs": []
    },
    {
      "cell_type": "code",
      "metadata": {
        "id": "ZtFRi9-q0VkH"
      },
      "source": [
        "from keras.utils import *\r\n",
        "#for using one hot encoder\r\n"
      ],
      "execution_count": 12,
      "outputs": []
    },
    {
      "cell_type": "code",
      "metadata": {
        "id": "mAmz-6O50wmn"
      },
      "source": [
        "y_ = to_categorical(y, num_classes=10)"
      ],
      "execution_count": 13,
      "outputs": []
    },
    {
      "cell_type": "code",
      "metadata": {
        "colab": {
          "base_uri": "https://localhost:8080/"
        },
        "id": "0pGufvS80x3m",
        "outputId": "7179751a-d046-4635-b60b-0c0fe8a73448"
      },
      "source": [
        "y_.shape\r\n"
      ],
      "execution_count": 14,
      "outputs": [
        {
          "output_type": "execute_result",
          "data": {
            "text/plain": [
              "(1000, 10)"
            ]
          },
          "metadata": {
            "tags": []
          },
          "execution_count": 14
        }
      ]
    },
    {
      "cell_type": "code",
      "metadata": {
        "colab": {
          "base_uri": "https://localhost:8080/"
        },
        "id": "d0sywr9-0112",
        "outputId": "f421654b-74f4-474e-a0f3-08af5dab4239"
      },
      "source": [
        "y_"
      ],
      "execution_count": 16,
      "outputs": [
        {
          "output_type": "execute_result",
          "data": {
            "text/plain": [
              "array([[0., 0., 0., ..., 0., 0., 1.],\n",
              "       [0., 1., 0., ..., 0., 0., 0.],\n",
              "       [0., 0., 0., ..., 0., 0., 0.],\n",
              "       ...,\n",
              "       [0., 0., 0., ..., 0., 1., 0.],\n",
              "       [0., 0., 1., ..., 0., 0., 0.],\n",
              "       [1., 0., 0., ..., 0., 0., 0.]], dtype=float32)"
            ]
          },
          "metadata": {
            "tags": []
          },
          "execution_count": 16
        }
      ]
    },
    {
      "cell_type": "code",
      "metadata": {
        "id": "YUrrdTQh0-On"
      },
      "source": [
        "model = Sequential()\r\n",
        "model.add(Dense(256,input_dim=100))\r\n",
        "model.add(Dense(128))\r\n",
        "model.add(Dense(10))\r\n",
        "model.add(Activation('softmax'))"
      ],
      "execution_count": 17,
      "outputs": []
    },
    {
      "cell_type": "code",
      "metadata": {
        "id": "uLZDkYHr1ziN"
      },
      "source": [
        "model.compile(loss='categorical_crossentropy',optimizer='sgd',metrics=['accuracy'])"
      ],
      "execution_count": 18,
      "outputs": []
    },
    {
      "cell_type": "code",
      "metadata": {
        "colab": {
          "base_uri": "https://localhost:8080/"
        },
        "id": "SFTPf9U211c2",
        "outputId": "dc8758c8-0e1f-47ad-f3d7-4e44bf6710fe"
      },
      "source": [
        "model.fit(X,y_, epochs=100)"
      ],
      "execution_count": 19,
      "outputs": [
        {
          "output_type": "stream",
          "text": [
            "Epoch 1/100\n",
            "32/32 [==============================] - 1s 2ms/step - loss: 2.4174 - accuracy: 0.1098\n",
            "Epoch 2/100\n",
            "32/32 [==============================] - 0s 2ms/step - loss: 2.3419 - accuracy: 0.1177\n",
            "Epoch 3/100\n",
            "32/32 [==============================] - 0s 1ms/step - loss: 2.3177 - accuracy: 0.1327\n",
            "Epoch 4/100\n",
            "32/32 [==============================] - 0s 1ms/step - loss: 2.3016 - accuracy: 0.1409\n",
            "Epoch 5/100\n",
            "32/32 [==============================] - 0s 2ms/step - loss: 2.2899 - accuracy: 0.1548\n",
            "Epoch 6/100\n",
            "32/32 [==============================] - 0s 1ms/step - loss: 2.2761 - accuracy: 0.1629\n",
            "Epoch 7/100\n",
            "32/32 [==============================] - 0s 1ms/step - loss: 2.2829 - accuracy: 0.1738\n",
            "Epoch 8/100\n",
            "32/32 [==============================] - 0s 1ms/step - loss: 2.2475 - accuracy: 0.1802\n",
            "Epoch 9/100\n",
            "32/32 [==============================] - 0s 2ms/step - loss: 2.2419 - accuracy: 0.1870\n",
            "Epoch 10/100\n",
            "32/32 [==============================] - 0s 2ms/step - loss: 2.2239 - accuracy: 0.1746\n",
            "Epoch 11/100\n",
            "32/32 [==============================] - 0s 2ms/step - loss: 2.1947 - accuracy: 0.2150\n",
            "Epoch 12/100\n",
            "32/32 [==============================] - 0s 2ms/step - loss: 2.2081 - accuracy: 0.1837\n",
            "Epoch 13/100\n",
            "32/32 [==============================] - 0s 1ms/step - loss: 2.1934 - accuracy: 0.2175\n",
            "Epoch 14/100\n",
            "32/32 [==============================] - 0s 2ms/step - loss: 2.1838 - accuracy: 0.2071\n",
            "Epoch 15/100\n",
            "32/32 [==============================] - 0s 2ms/step - loss: 2.1697 - accuracy: 0.2177\n",
            "Epoch 16/100\n",
            "32/32 [==============================] - 0s 2ms/step - loss: 2.1677 - accuracy: 0.2406\n",
            "Epoch 17/100\n",
            "32/32 [==============================] - 0s 2ms/step - loss: 2.1392 - accuracy: 0.2588\n",
            "Epoch 18/100\n",
            "32/32 [==============================] - 0s 1ms/step - loss: 2.1409 - accuracy: 0.2263\n",
            "Epoch 19/100\n",
            "32/32 [==============================] - 0s 2ms/step - loss: 2.1408 - accuracy: 0.2214\n",
            "Epoch 20/100\n",
            "32/32 [==============================] - 0s 2ms/step - loss: 2.1280 - accuracy: 0.2689\n",
            "Epoch 21/100\n",
            "32/32 [==============================] - 0s 1ms/step - loss: 2.1314 - accuracy: 0.2743\n",
            "Epoch 22/100\n",
            "32/32 [==============================] - 0s 2ms/step - loss: 2.0885 - accuracy: 0.2705\n",
            "Epoch 23/100\n",
            "32/32 [==============================] - 0s 1ms/step - loss: 2.1252 - accuracy: 0.2508\n",
            "Epoch 24/100\n",
            "32/32 [==============================] - 0s 2ms/step - loss: 2.0992 - accuracy: 0.2652\n",
            "Epoch 25/100\n",
            "32/32 [==============================] - 0s 2ms/step - loss: 2.1057 - accuracy: 0.2874\n",
            "Epoch 26/100\n",
            "32/32 [==============================] - 0s 2ms/step - loss: 2.0778 - accuracy: 0.2810\n",
            "Epoch 27/100\n",
            "32/32 [==============================] - 0s 2ms/step - loss: 2.0971 - accuracy: 0.2546\n",
            "Epoch 28/100\n",
            "32/32 [==============================] - 0s 1ms/step - loss: 2.0470 - accuracy: 0.2986\n",
            "Epoch 29/100\n",
            "32/32 [==============================] - 0s 2ms/step - loss: 2.0503 - accuracy: 0.2885\n",
            "Epoch 30/100\n",
            "32/32 [==============================] - 0s 2ms/step - loss: 2.0590 - accuracy: 0.2933\n",
            "Epoch 31/100\n",
            "32/32 [==============================] - 0s 2ms/step - loss: 2.0416 - accuracy: 0.2924\n",
            "Epoch 32/100\n",
            "32/32 [==============================] - 0s 1ms/step - loss: 2.0237 - accuracy: 0.2875\n",
            "Epoch 33/100\n",
            "32/32 [==============================] - 0s 2ms/step - loss: 2.0413 - accuracy: 0.3151\n",
            "Epoch 34/100\n",
            "32/32 [==============================] - 0s 2ms/step - loss: 2.0339 - accuracy: 0.3158\n",
            "Epoch 35/100\n",
            "32/32 [==============================] - 0s 2ms/step - loss: 2.0313 - accuracy: 0.2951\n",
            "Epoch 36/100\n",
            "32/32 [==============================] - 0s 1ms/step - loss: 1.9942 - accuracy: 0.3004\n",
            "Epoch 37/100\n",
            "32/32 [==============================] - 0s 1ms/step - loss: 1.9950 - accuracy: 0.3162\n",
            "Epoch 38/100\n",
            "32/32 [==============================] - 0s 1ms/step - loss: 2.0138 - accuracy: 0.3252\n",
            "Epoch 39/100\n",
            "32/32 [==============================] - 0s 2ms/step - loss: 2.0349 - accuracy: 0.2716\n",
            "Epoch 40/100\n",
            "32/32 [==============================] - 0s 2ms/step - loss: 2.0087 - accuracy: 0.2864\n",
            "Epoch 41/100\n",
            "32/32 [==============================] - 0s 1ms/step - loss: 1.9914 - accuracy: 0.2947\n",
            "Epoch 42/100\n",
            "32/32 [==============================] - 0s 1ms/step - loss: 2.0127 - accuracy: 0.3033\n",
            "Epoch 43/100\n",
            "32/32 [==============================] - 0s 1ms/step - loss: 2.0064 - accuracy: 0.3091\n",
            "Epoch 44/100\n",
            "32/32 [==============================] - 0s 1ms/step - loss: 1.9744 - accuracy: 0.3361\n",
            "Epoch 45/100\n",
            "32/32 [==============================] - 0s 1ms/step - loss: 1.9801 - accuracy: 0.3188\n",
            "Epoch 46/100\n",
            "32/32 [==============================] - 0s 1ms/step - loss: 1.9689 - accuracy: 0.3397\n",
            "Epoch 47/100\n",
            "32/32 [==============================] - 0s 2ms/step - loss: 1.9742 - accuracy: 0.3244\n",
            "Epoch 48/100\n",
            "32/32 [==============================] - 0s 1ms/step - loss: 1.9730 - accuracy: 0.3250\n",
            "Epoch 49/100\n",
            "32/32 [==============================] - 0s 1ms/step - loss: 1.9597 - accuracy: 0.3246\n",
            "Epoch 50/100\n",
            "32/32 [==============================] - 0s 1ms/step - loss: 1.9909 - accuracy: 0.2953\n",
            "Epoch 51/100\n",
            "32/32 [==============================] - 0s 1ms/step - loss: 1.9582 - accuracy: 0.3211\n",
            "Epoch 52/100\n",
            "32/32 [==============================] - 0s 1ms/step - loss: 1.9588 - accuracy: 0.3489\n",
            "Epoch 53/100\n",
            "32/32 [==============================] - 0s 2ms/step - loss: 1.9389 - accuracy: 0.3284\n",
            "Epoch 54/100\n",
            "32/32 [==============================] - 0s 1ms/step - loss: 1.9518 - accuracy: 0.3237\n",
            "Epoch 55/100\n",
            "32/32 [==============================] - 0s 2ms/step - loss: 1.9315 - accuracy: 0.3216\n",
            "Epoch 56/100\n",
            "32/32 [==============================] - 0s 2ms/step - loss: 1.9256 - accuracy: 0.3300\n",
            "Epoch 57/100\n",
            "32/32 [==============================] - 0s 1ms/step - loss: 1.9468 - accuracy: 0.3254\n",
            "Epoch 58/100\n",
            "32/32 [==============================] - 0s 1ms/step - loss: 1.9493 - accuracy: 0.3296\n",
            "Epoch 59/100\n",
            "32/32 [==============================] - 0s 1ms/step - loss: 1.9161 - accuracy: 0.3434\n",
            "Epoch 60/100\n",
            "32/32 [==============================] - 0s 1ms/step - loss: 1.8941 - accuracy: 0.3618\n",
            "Epoch 61/100\n",
            "32/32 [==============================] - 0s 1ms/step - loss: 1.9361 - accuracy: 0.3389\n",
            "Epoch 62/100\n",
            "32/32 [==============================] - 0s 2ms/step - loss: 1.9323 - accuracy: 0.3322\n",
            "Epoch 63/100\n",
            "32/32 [==============================] - 0s 1ms/step - loss: 1.9272 - accuracy: 0.3220\n",
            "Epoch 64/100\n",
            "32/32 [==============================] - 0s 1ms/step - loss: 1.8921 - accuracy: 0.3375\n",
            "Epoch 65/100\n",
            "32/32 [==============================] - 0s 1ms/step - loss: 1.9277 - accuracy: 0.3254\n",
            "Epoch 66/100\n",
            "32/32 [==============================] - 0s 1ms/step - loss: 1.9251 - accuracy: 0.3152\n",
            "Epoch 67/100\n",
            "32/32 [==============================] - 0s 1ms/step - loss: 1.8683 - accuracy: 0.3479\n",
            "Epoch 68/100\n",
            "32/32 [==============================] - 0s 1ms/step - loss: 1.9443 - accuracy: 0.3162\n",
            "Epoch 69/100\n",
            "32/32 [==============================] - 0s 1ms/step - loss: 1.9242 - accuracy: 0.3369\n",
            "Epoch 70/100\n",
            "32/32 [==============================] - 0s 2ms/step - loss: 1.9307 - accuracy: 0.3398\n",
            "Epoch 71/100\n",
            "32/32 [==============================] - 0s 2ms/step - loss: 1.9004 - accuracy: 0.3504\n",
            "Epoch 72/100\n",
            "32/32 [==============================] - 0s 1ms/step - loss: 1.8973 - accuracy: 0.3536\n",
            "Epoch 73/100\n",
            "32/32 [==============================] - 0s 2ms/step - loss: 1.9131 - accuracy: 0.3405\n",
            "Epoch 74/100\n",
            "32/32 [==============================] - 0s 1ms/step - loss: 1.9133 - accuracy: 0.3205\n",
            "Epoch 75/100\n",
            "32/32 [==============================] - 0s 1ms/step - loss: 1.8649 - accuracy: 0.3714\n",
            "Epoch 76/100\n",
            "32/32 [==============================] - 0s 1ms/step - loss: 1.9068 - accuracy: 0.3320\n",
            "Epoch 77/100\n",
            "32/32 [==============================] - 0s 1ms/step - loss: 1.9246 - accuracy: 0.3230\n",
            "Epoch 78/100\n",
            "32/32 [==============================] - 0s 1ms/step - loss: 1.8999 - accuracy: 0.3464\n",
            "Epoch 79/100\n",
            "32/32 [==============================] - 0s 2ms/step - loss: 1.8662 - accuracy: 0.3617\n",
            "Epoch 80/100\n",
            "32/32 [==============================] - 0s 1ms/step - loss: 1.8590 - accuracy: 0.3462\n",
            "Epoch 81/100\n",
            "32/32 [==============================] - 0s 1ms/step - loss: 1.8796 - accuracy: 0.3348\n",
            "Epoch 82/100\n",
            "32/32 [==============================] - 0s 2ms/step - loss: 1.8782 - accuracy: 0.3506\n",
            "Epoch 83/100\n",
            "32/32 [==============================] - 0s 2ms/step - loss: 1.8560 - accuracy: 0.3556\n",
            "Epoch 84/100\n",
            "32/32 [==============================] - 0s 2ms/step - loss: 1.9006 - accuracy: 0.3413\n",
            "Epoch 85/100\n",
            "32/32 [==============================] - 0s 2ms/step - loss: 1.8517 - accuracy: 0.3812\n",
            "Epoch 86/100\n",
            "32/32 [==============================] - 0s 1ms/step - loss: 1.8637 - accuracy: 0.3577\n",
            "Epoch 87/100\n",
            "32/32 [==============================] - 0s 1ms/step - loss: 1.8838 - accuracy: 0.3437\n",
            "Epoch 88/100\n",
            "32/32 [==============================] - 0s 1ms/step - loss: 1.9040 - accuracy: 0.3520\n",
            "Epoch 89/100\n",
            "32/32 [==============================] - 0s 1ms/step - loss: 1.8526 - accuracy: 0.3661\n",
            "Epoch 90/100\n",
            "32/32 [==============================] - 0s 1ms/step - loss: 1.8806 - accuracy: 0.3477\n",
            "Epoch 91/100\n",
            "32/32 [==============================] - 0s 1ms/step - loss: 1.8731 - accuracy: 0.3584\n",
            "Epoch 92/100\n",
            "32/32 [==============================] - 0s 1ms/step - loss: 1.8729 - accuracy: 0.3557\n",
            "Epoch 93/100\n",
            "32/32 [==============================] - 0s 1ms/step - loss: 1.8631 - accuracy: 0.3535\n",
            "Epoch 94/100\n",
            "32/32 [==============================] - 0s 1ms/step - loss: 1.8733 - accuracy: 0.3334\n",
            "Epoch 95/100\n",
            "32/32 [==============================] - 0s 1ms/step - loss: 1.8537 - accuracy: 0.3292\n",
            "Epoch 96/100\n",
            "32/32 [==============================] - 0s 1ms/step - loss: 1.8938 - accuracy: 0.3374\n",
            "Epoch 97/100\n",
            "32/32 [==============================] - 0s 1ms/step - loss: 1.8758 - accuracy: 0.3656\n",
            "Epoch 98/100\n",
            "32/32 [==============================] - 0s 1ms/step - loss: 1.8790 - accuracy: 0.3434\n",
            "Epoch 99/100\n",
            "32/32 [==============================] - 0s 1ms/step - loss: 1.8605 - accuracy: 0.3463\n",
            "Epoch 100/100\n",
            "32/32 [==============================] - 0s 1ms/step - loss: 1.8256 - accuracy: 0.3523\n"
          ],
          "name": "stdout"
        },
        {
          "output_type": "execute_result",
          "data": {
            "text/plain": [
              "<tensorflow.python.keras.callbacks.History at 0x7fd99da604e0>"
            ]
          },
          "metadata": {
            "tags": []
          },
          "execution_count": 19
        }
      ]
    },
    {
      "cell_type": "code",
      "metadata": {
        "colab": {
          "base_uri": "https://localhost:8080/"
        },
        "id": "YxEhOw7B2CzW",
        "outputId": "486fa9e4-bd03-486f-9410-6042f0da57fc"
      },
      "source": [
        "predicted_proba = model.predict(X)\r\n",
        "print (predicted_proba)"
      ],
      "execution_count": 20,
      "outputs": [
        {
          "output_type": "stream",
          "text": [
            "[[0.02843288 0.06607405 0.05544253 ... 0.05208556 0.01923344 0.24102452]\n",
            " [0.03917684 0.10954227 0.0383179  ... 0.07363186 0.22484303 0.08690676]\n",
            " [0.26361144 0.02947165 0.02829551 ... 0.03704872 0.08427622 0.03282056]\n",
            " ...\n",
            " [0.06602997 0.00886693 0.03079349 ... 0.01398163 0.36653078 0.05485282]\n",
            " [0.07709374 0.02050386 0.05623129 ... 0.10243903 0.10967172 0.1610924 ]\n",
            " [0.3871024  0.00863823 0.12282299 ... 0.02253174 0.02172015 0.11442941]]\n"
          ],
          "name": "stdout"
        }
      ]
    },
    {
      "cell_type": "code",
      "metadata": {
        "colab": {
          "base_uri": "https://localhost:8080/"
        },
        "id": "fsixQav12L1G",
        "outputId": "2ca6d22c-afe4-430f-e83d-2122bded8644"
      },
      "source": [
        "predicted_classes = np.argmax(predicted_proba,axis=1)\r\n",
        "print (predicted_classes)\r\n",
        "print (accuracy_score(y,predicted_classes))"
      ],
      "execution_count": 21,
      "outputs": [
        {
          "output_type": "stream",
          "text": [
            "[6 8 4 1 8 9 3 9 4 5 4 9 5 6 9 5 4 4 0 4 3 5 4 4 3 8 9 4 2 1 4 3 1 9 3 0 8\n",
            " 7 3 4 3 9 2 4 6 6 6 6 6 5 6 6 8 5 3 4 7 4 4 0 4 6 2 5 9 6 3 3 4 0 5 3 8 4\n",
            " 3 9 4 3 4 7 2 5 7 6 7 1 3 3 2 3 7 6 4 4 8 3 9 3 4 2 3 7 6 4 7 3 4 4 6 7 0\n",
            " 8 3 6 9 9 3 0 3 9 4 6 1 9 9 5 8 0 3 8 4 9 9 2 4 9 3 2 6 1 5 0 9 5 6 8 3 2\n",
            " 9 4 0 7 4 1 8 6 4 9 6 6 6 7 4 1 5 6 3 4 6 1 0 7 0 4 6 4 0 4 3 7 7 0 2 5 3\n",
            " 2 4 6 3 5 4 0 4 4 4 4 4 9 7 5 0 3 0 7 0 2 0 4 0 9 9 9 7 4 4 5 3 4 8 6 0 4\n",
            " 9 7 9 4 4 4 3 4 6 7 9 0 6 4 9 0 9 6 4 6 6 0 6 6 1 8 6 6 9 7 7 5 4 9 3 4 7\n",
            " 3 6 6 6 9 8 7 7 4 9 7 9 0 7 8 4 4 4 0 4 0 3 7 3 5 4 5 5 0 8 6 5 3 9 5 9 4\n",
            " 0 8 0 3 0 8 9 0 0 4 9 9 4 0 1 0 0 4 0 9 9 3 8 0 7 4 6 4 4 6 7 8 4 5 8 9 0\n",
            " 5 9 4 3 0 6 9 4 7 4 7 1 3 8 4 3 5 1 3 7 5 4 2 6 0 9 9 6 7 0 3 1 1 6 6 8 6\n",
            " 4 4 5 0 9 7 4 6 7 4 3 3 6 9 0 0 5 6 3 4 2 9 6 5 8 4 4 6 0 6 9 7 5 9 4 6 5\n",
            " 5 0 8 6 0 6 7 0 8 7 6 3 4 6 0 4 1 8 4 0 4 7 4 5 1 9 5 1 8 2 0 7 9 9 5 6 6\n",
            " 2 2 0 7 8 9 0 4 4 4 9 0 7 8 8 8 9 0 7 4 0 0 9 0 3 3 7 9 3 9 4 3 7 3 9 6 5\n",
            " 7 7 4 4 9 7 5 8 4 7 0 7 6 7 4 5 4 9 7 4 6 9 7 8 5 6 3 9 1 9 7 1 1 1 1 3 5\n",
            " 4 6 5 6 7 4 0 0 9 2 3 8 0 1 4 0 1 1 2 4 0 8 6 4 0 7 6 4 6 0 0 7 9 9 5 4 5\n",
            " 1 9 4 6 4 2 6 6 0 3 1 6 7 6 6 9 2 1 6 7 4 8 2 4 3 4 8 8 8 9 0 9 0 4 8 6 9\n",
            " 9 5 8 8 6 3 6 7 6 2 0 4 5 4 8 3 1 6 4 3 4 5 3 9 4 4 4 8 0 4 4 4 3 1 8 3 7\n",
            " 5 8 6 3 5 9 9 6 6 9 5 4 1 5 3 6 3 6 5 4 7 0 6 2 0 4 6 1 6 8 5 3 6 4 7 3 9\n",
            " 7 0 9 0 9 0 4 4 3 9 6 3 2 9 7 3 6 0 7 9 1 7 1 1 6 7 0 7 6 6 4 5 0 9 4 5 7\n",
            " 5 2 1 1 1 2 3 0 6 4 0 6 0 4 9 7 0 4 1 5 0 3 3 5 7 9 7 9 6 6 4 4 9 6 2 1 6\n",
            " 6 7 6 3 8 8 5 6 4 5 9 3 4 4 7 6 7 6 0 3 9 6 4 2 4 0 7 0 4 9 4 6 9 2 8 5 4\n",
            " 6 9 9 4 0 6 9 7 9 4 8 6 9 4 4 6 9 9 9 0 8 2 0 6 6 6 3 6 9 0 9 1 0 5 0 1 4\n",
            " 5 3 9 6 3 9 8 9 3 6 6 9 5 3 6 0 5 5 6 7 8 3 6 8 6 5 4 5 9 1 9 3 6 8 0 7 7\n",
            " 8 3 5 4 9 2 4 9 6 5 7 2 5 0 6 6 7 9 0 4 0 3 7 0 3 6 8 4 4 7 1 9 4 0 0 1 6\n",
            " 4 7 7 7 6 0 7 8 9 2 4 4 4 8 4 6 3 1 4 8 6 9 4 5 6 4 8 6 1 0 6 4 7 3 8 9 8\n",
            " 4 9 3 4 0 0 0 9 4 4 6 3 7 4 4 0 2 5 8 9 2 8 4 0 6 7 4 4 8 3 8 4 4 6 4 4 1\n",
            " 4 0 0 9 7 7 1 8 9 4 6 6 4 7 4 3 2 4 4 6 3 5 3 6 6 4 8 9 7 7 0 1 5 0 4 8 3\n",
            " 0]\n",
            "0.362\n"
          ],
          "name": "stdout"
        }
      ]
    },
    {
      "cell_type": "code",
      "metadata": {
        "id": "CxbJgZ5J2P72"
      },
      "source": [
        ""
      ],
      "execution_count": null,
      "outputs": []
    }
  ]
}