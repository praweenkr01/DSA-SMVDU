{
  "nbformat": 4,
  "nbformat_minor": 0,
  "metadata": {
    "colab": {
      "name": "DateTimeinTimeSeries.ipynb",
      "provenance": []
    },
    "kernelspec": {
      "name": "python3",
      "display_name": "Python 3"
    }
  },
  "cells": [
    {
      "cell_type": "markdown",
      "metadata": {
        "id": "MkxMwSwL-LJ3"
      },
      "source": [
        "#***Times Series : Date time practice session*** \r\n",
        "\r\n",
        "\r\n"
      ]
    },
    {
      "cell_type": "code",
      "metadata": {
        "id": "NCTy0rgz9W7T"
      },
      "source": [
        "from datetime import datetime\r\n",
        "import numpy as np\r\n",
        "import pandas as pd"
      ],
      "execution_count": 19,
      "outputs": []
    },
    {
      "cell_type": "code",
      "metadata": {
        "id": "-kpkpxCU-jqb"
      },
      "source": [
        "year=2021\r\n",
        "month=2\r\n",
        "day=25\r\n",
        "hour=13\r\n",
        "minute=55\r\n",
        "second=30"
      ],
      "execution_count": 3,
      "outputs": []
    },
    {
      "cell_type": "code",
      "metadata": {
        "id": "P4cAyp9K-syk"
      },
      "source": [
        "today=datetime(year,month,day)"
      ],
      "execution_count": 4,
      "outputs": []
    },
    {
      "cell_type": "code",
      "metadata": {
        "colab": {
          "base_uri": "https://localhost:8080/"
        },
        "id": "iduHyOXu-xDk",
        "outputId": "b49f7879-acf9-4463-8dac-8d7b066ad471"
      },
      "source": [
        "today"
      ],
      "execution_count": 5,
      "outputs": [
        {
          "output_type": "execute_result",
          "data": {
            "text/plain": [
              "datetime.datetime(2021, 2, 25, 0, 0)"
            ]
          },
          "metadata": {
            "tags": []
          },
          "execution_count": 5
        }
      ]
    },
    {
      "cell_type": "code",
      "metadata": {
        "id": "umLWKyLe-xrk"
      },
      "source": [
        "today_time = datetime(year,month,day,hour,minute,second)"
      ],
      "execution_count": 6,
      "outputs": []
    },
    {
      "cell_type": "code",
      "metadata": {
        "colab": {
          "base_uri": "https://localhost:8080/"
        },
        "id": "Ig-6l3Kr-6jl",
        "outputId": "8ff72e87-ed5f-4993-e98a-7f7030f928c4"
      },
      "source": [
        "today_time"
      ],
      "execution_count": 7,
      "outputs": [
        {
          "output_type": "execute_result",
          "data": {
            "text/plain": [
              "datetime.datetime(2021, 2, 25, 13, 55, 30)"
            ]
          },
          "metadata": {
            "tags": []
          },
          "execution_count": 7
        }
      ]
    },
    {
      "cell_type": "code",
      "metadata": {
        "colab": {
          "base_uri": "https://localhost:8080/"
        },
        "id": "tJZGN5ur-7yF",
        "outputId": "37988145-51c1-45ff-80ff-40f2a4506b23"
      },
      "source": [
        "today.day"
      ],
      "execution_count": 8,
      "outputs": [
        {
          "output_type": "execute_result",
          "data": {
            "text/plain": [
              "25"
            ]
          },
          "metadata": {
            "tags": []
          },
          "execution_count": 8
        }
      ]
    },
    {
      "cell_type": "code",
      "metadata": {
        "colab": {
          "base_uri": "https://localhost:8080/"
        },
        "id": "YYBve5ZC-9b1",
        "outputId": "e484cbd1-5fd2-425e-b6d9-15436427f205"
      },
      "source": [
        "today_time.hour"
      ],
      "execution_count": 9,
      "outputs": [
        {
          "output_type": "execute_result",
          "data": {
            "text/plain": [
              "13"
            ]
          },
          "metadata": {
            "tags": []
          },
          "execution_count": 9
        }
      ]
    },
    {
      "cell_type": "code",
      "metadata": {
        "id": "VmnZsGY5-_h0"
      },
      "source": [
        "dates=np.arange('2021-02-21', '2021-12-31', 3, dtype='datetime64[D]')\r\n",
        "#array of dates between two dates with a gap of 3 days"
      ],
      "execution_count": 15,
      "outputs": []
    },
    {
      "cell_type": "code",
      "metadata": {
        "colab": {
          "base_uri": "https://localhost:8080/"
        },
        "id": "aPU9fYr9_WbE",
        "outputId": "4e4c2e66-2043-4c85-f2ff-12bd8742a026"
      },
      "source": [
        "print(dates)"
      ],
      "execution_count": 16,
      "outputs": [
        {
          "output_type": "stream",
          "text": [
            "['2021-02-21' '2021-02-24' '2021-02-27' '2021-03-02' '2021-03-05'\n",
            " '2021-03-08' '2021-03-11' '2021-03-14' '2021-03-17' '2021-03-20'\n",
            " '2021-03-23' '2021-03-26' '2021-03-29' '2021-04-01' '2021-04-04'\n",
            " '2021-04-07' '2021-04-10' '2021-04-13' '2021-04-16' '2021-04-19'\n",
            " '2021-04-22' '2021-04-25' '2021-04-28' '2021-05-01' '2021-05-04'\n",
            " '2021-05-07' '2021-05-10' '2021-05-13' '2021-05-16' '2021-05-19'\n",
            " '2021-05-22' '2021-05-25' '2021-05-28' '2021-05-31' '2021-06-03'\n",
            " '2021-06-06' '2021-06-09' '2021-06-12' '2021-06-15' '2021-06-18'\n",
            " '2021-06-21' '2021-06-24' '2021-06-27' '2021-06-30' '2021-07-03'\n",
            " '2021-07-06' '2021-07-09' '2021-07-12' '2021-07-15' '2021-07-18'\n",
            " '2021-07-21' '2021-07-24' '2021-07-27' '2021-07-30' '2021-08-02'\n",
            " '2021-08-05' '2021-08-08' '2021-08-11' '2021-08-14' '2021-08-17'\n",
            " '2021-08-20' '2021-08-23' '2021-08-26' '2021-08-29' '2021-09-01'\n",
            " '2021-09-04' '2021-09-07' '2021-09-10' '2021-09-13' '2021-09-16'\n",
            " '2021-09-19' '2021-09-22' '2021-09-25' '2021-09-28' '2021-10-01'\n",
            " '2021-10-04' '2021-10-07' '2021-10-10' '2021-10-13' '2021-10-16'\n",
            " '2021-10-19' '2021-10-22' '2021-10-25' '2021-10-28' '2021-10-31'\n",
            " '2021-11-03' '2021-11-06' '2021-11-09' '2021-11-12' '2021-11-15'\n",
            " '2021-11-18' '2021-11-21' '2021-11-24' '2021-11-27' '2021-11-30'\n",
            " '2021-12-03' '2021-12-06' '2021-12-09' '2021-12-12' '2021-12-15'\n",
            " '2021-12-18' '2021-12-21' '2021-12-24' '2021-12-27' '2021-12-30']\n"
          ],
          "name": "stdout"
        }
      ]
    },
    {
      "cell_type": "code",
      "metadata": {
        "colab": {
          "base_uri": "https://localhost:8080/"
        },
        "id": "wBLuIzi8_adV",
        "outputId": "a10960d8-09f6-4033-926a-0e6891d82a9a"
      },
      "source": [
        "np.arange('1995', '2021', dtype='datetime64[Y]')\r\n",
        "#year array range"
      ],
      "execution_count": 18,
      "outputs": [
        {
          "output_type": "execute_result",
          "data": {
            "text/plain": [
              "array(['1995', '1996', '1997', '1998', '1999', '2000', '2001', '2002',\n",
              "       '2003', '2004', '2005', '2006', '2007', '2008', '2009', '2010',\n",
              "       '2011', '2012', '2013', '2014', '2015', '2016', '2017', '2018',\n",
              "       '2019', '2020'], dtype='datetime64[Y]')"
            ]
          },
          "metadata": {
            "tags": []
          },
          "execution_count": 18
        }
      ]
    },
    {
      "cell_type": "code",
      "metadata": {
        "colab": {
          "base_uri": "https://localhost:8080/"
        },
        "id": "Oblf-Udx_of1",
        "outputId": "81e0128d-073f-49a3-a7b5-679ed3819d98"
      },
      "source": [
        "idx = pd.date_range('31/12/2020', periods=7, freq='D')\r\n",
        "idx\r\n",
        "#creating a datetime index"
      ],
      "execution_count": 21,
      "outputs": [
        {
          "output_type": "execute_result",
          "data": {
            "text/plain": [
              "DatetimeIndex(['2020-12-31', '2021-01-01', '2021-01-02', '2021-01-03',\n",
              "               '2021-01-04', '2021-01-05', '2021-01-06'],\n",
              "              dtype='datetime64[ns]', freq='D')"
            ]
          },
          "metadata": {
            "tags": []
          },
          "execution_count": 21
        }
      ]
    },
    {
      "cell_type": "code",
      "metadata": {
        "colab": {
          "base_uri": "https://localhost:8080/"
        },
        "id": "t_MKC0Do_241",
        "outputId": "717f1037-5f36-4f7b-acf1-cb052e6047aa"
      },
      "source": [
        "idx = pd.to_datetime(['Jan 01, 2021','1/2/21','03-Jan-2021',None])\r\n",
        "idx\r\n",
        "#converting text to date"
      ],
      "execution_count": 23,
      "outputs": [
        {
          "output_type": "execute_result",
          "data": {
            "text/plain": [
              "DatetimeIndex(['2021-01-01', '2021-01-02', '2021-01-03', 'NaT'], dtype='datetime64[ns]', freq=None)"
            ]
          },
          "metadata": {
            "tags": []
          },
          "execution_count": 23
        }
      ]
    },
    {
      "cell_type": "code",
      "metadata": {
        "colab": {
          "base_uri": "https://localhost:8080/"
        },
        "id": "-gVU3HXmAMPm",
        "outputId": "b3bf0b59-137a-4bec-c626-6c8b70074ff4"
      },
      "source": [
        "dates2 = np.array(['2020-03-22', '2020-04-24', '2021-01-09'], dtype='datetime64[D]')\r\n",
        "dates2"
      ],
      "execution_count": 24,
      "outputs": [
        {
          "output_type": "execute_result",
          "data": {
            "text/plain": [
              "array(['2020-03-22', '2020-04-24', '2021-01-09'], dtype='datetime64[D]')"
            ]
          },
          "metadata": {
            "tags": []
          },
          "execution_count": 24
        }
      ]
    },
    {
      "cell_type": "code",
      "metadata": {
        "colab": {
          "base_uri": "https://localhost:8080/"
        },
        "id": "V0ag5ODvQtN1",
        "outputId": "7d77f8c2-520b-4664-a81a-12357f954af2"
      },
      "source": [
        "idx = pd.DatetimeIndex(dates2)\r\n",
        "idx"
      ],
      "execution_count": 25,
      "outputs": [
        {
          "output_type": "execute_result",
          "data": {
            "text/plain": [
              "DatetimeIndex(['2020-03-22', '2020-04-24', '2021-01-09'], dtype='datetime64[ns]', freq=None)"
            ]
          },
          "metadata": {
            "tags": []
          },
          "execution_count": 25
        }
      ]
    },
    {
      "cell_type": "code",
      "metadata": {
        "id": "K8D85Q-RQwrj"
      },
      "source": [
        ""
      ],
      "execution_count": null,
      "outputs": []
    },
    {
      "cell_type": "markdown",
      "metadata": {
        "id": "qusQIGWiRDKq"
      },
      "source": [
        "Creating Random data"
      ]
    },
    {
      "cell_type": "code",
      "metadata": {
        "colab": {
          "base_uri": "https://localhost:8080/"
        },
        "id": "NVq4cYGnREyC",
        "outputId": "0aa91fcb-47d1-4f04-925e-e205291536be"
      },
      "source": [
        "data = np.random.randn(3,2)\r\n",
        "cols = ['A','B']\r\n",
        "print(data)"
      ],
      "execution_count": 26,
      "outputs": [
        {
          "output_type": "stream",
          "text": [
            "[[ 1.60012802 -0.60525596]\n",
            " [-0.36206635 -0.2431588 ]\n",
            " [-1.11106084  0.23448161]]\n"
          ],
          "name": "stdout"
        }
      ]
    },
    {
      "cell_type": "code",
      "metadata": {
        "colab": {
          "base_uri": "https://localhost:8080/",
          "height": 138
        },
        "id": "vraCeoeKRFgU",
        "outputId": "876ea981-7407-4d9d-da7c-5aaf6242cbba"
      },
      "source": [
        "df = pd.DataFrame(data,idx,cols)\r\n",
        "df"
      ],
      "execution_count": 27,
      "outputs": [
        {
          "output_type": "execute_result",
          "data": {
            "text/html": [
              "<div>\n",
              "<style scoped>\n",
              "    .dataframe tbody tr th:only-of-type {\n",
              "        vertical-align: middle;\n",
              "    }\n",
              "\n",
              "    .dataframe tbody tr th {\n",
              "        vertical-align: top;\n",
              "    }\n",
              "\n",
              "    .dataframe thead th {\n",
              "        text-align: right;\n",
              "    }\n",
              "</style>\n",
              "<table border=\"1\" class=\"dataframe\">\n",
              "  <thead>\n",
              "    <tr style=\"text-align: right;\">\n",
              "      <th></th>\n",
              "      <th>A</th>\n",
              "      <th>B</th>\n",
              "    </tr>\n",
              "  </thead>\n",
              "  <tbody>\n",
              "    <tr>\n",
              "      <th>2020-03-22</th>\n",
              "      <td>1.600128</td>\n",
              "      <td>-0.605256</td>\n",
              "    </tr>\n",
              "    <tr>\n",
              "      <th>2020-04-24</th>\n",
              "      <td>-0.362066</td>\n",
              "      <td>-0.243159</td>\n",
              "    </tr>\n",
              "    <tr>\n",
              "      <th>2021-01-09</th>\n",
              "      <td>-1.111061</td>\n",
              "      <td>0.234482</td>\n",
              "    </tr>\n",
              "  </tbody>\n",
              "</table>\n",
              "</div>"
            ],
            "text/plain": [
              "                   A         B\n",
              "2020-03-22  1.600128 -0.605256\n",
              "2020-04-24 -0.362066 -0.243159\n",
              "2021-01-09 -1.111061  0.234482"
            ]
          },
          "metadata": {
            "tags": []
          },
          "execution_count": 27
        }
      ]
    },
    {
      "cell_type": "code",
      "metadata": {
        "colab": {
          "base_uri": "https://localhost:8080/"
        },
        "id": "GkDtIcYiRHgy",
        "outputId": "7cd20e9b-418e-45d4-b468-b3a659604f71"
      },
      "source": [
        "df.index"
      ],
      "execution_count": 28,
      "outputs": [
        {
          "output_type": "execute_result",
          "data": {
            "text/plain": [
              "DatetimeIndex(['2020-03-22', '2020-04-24', '2021-01-09'], dtype='datetime64[ns]', freq=None)"
            ]
          },
          "metadata": {
            "tags": []
          },
          "execution_count": 28
        }
      ]
    },
    {
      "cell_type": "code",
      "metadata": {
        "colab": {
          "base_uri": "https://localhost:8080/"
        },
        "id": "qLmBtByiRKMz",
        "outputId": "97e09049-bbfb-43d3-80a5-174b283e6b3b"
      },
      "source": [
        "df.index.max()\r\n",
        "#latest date value"
      ],
      "execution_count": 30,
      "outputs": [
        {
          "output_type": "execute_result",
          "data": {
            "text/plain": [
              "Timestamp('2021-01-09 00:00:00')"
            ]
          },
          "metadata": {
            "tags": []
          },
          "execution_count": 30
        }
      ]
    },
    {
      "cell_type": "code",
      "metadata": {
        "colab": {
          "base_uri": "https://localhost:8080/"
        },
        "id": "-O6UU1mIRQtj",
        "outputId": "496ce413-e76e-45c0-9a52-1eae42b0d8e2"
      },
      "source": [
        "df.index.argmax()\r\n",
        "#Latest date index location"
      ],
      "execution_count": 31,
      "outputs": [
        {
          "output_type": "execute_result",
          "data": {
            "text/plain": [
              "2"
            ]
          },
          "metadata": {
            "tags": []
          },
          "execution_count": 31
        }
      ]
    },
    {
      "cell_type": "code",
      "metadata": {
        "colab": {
          "base_uri": "https://localhost:8080/"
        },
        "id": "aD_6cQnHRoF3",
        "outputId": "0783d5cf-919c-4d7c-b546-5196231786e4"
      },
      "source": [
        "df.idxmin()"
      ],
      "execution_count": 37,
      "outputs": [
        {
          "output_type": "execute_result",
          "data": {
            "text/plain": [
              "A   2021-01-09\n",
              "B   2020-03-22\n",
              "dtype: datetime64[ns]"
            ]
          },
          "metadata": {
            "tags": []
          },
          "execution_count": 37
        }
      ]
    },
    {
      "cell_type": "code",
      "metadata": {
        "colab": {
          "base_uri": "https://localhost:8080/"
        },
        "id": "yUGGtb8GRYby",
        "outputId": "9c60f38c-a211-439a-beeb-517497d1a20d"
      },
      "source": [
        "df.index.min()\r\n"
      ],
      "execution_count": 36,
      "outputs": [
        {
          "output_type": "execute_result",
          "data": {
            "text/plain": [
              "Timestamp('2020-03-22 00:00:00')"
            ]
          },
          "metadata": {
            "tags": []
          },
          "execution_count": 36
        }
      ]
    },
    {
      "cell_type": "code",
      "metadata": {
        "colab": {
          "base_uri": "https://localhost:8080/"
        },
        "id": "HNnAjmAWRa2S",
        "outputId": "82720ff9-d244-4abc-a7ed-238b43cf0c72"
      },
      "source": [
        "df.index.argmin()"
      ],
      "execution_count": 33,
      "outputs": [
        {
          "output_type": "execute_result",
          "data": {
            "text/plain": [
              "0"
            ]
          },
          "metadata": {
            "tags": []
          },
          "execution_count": 33
        }
      ]
    },
    {
      "cell_type": "code",
      "metadata": {
        "colab": {
          "base_uri": "https://localhost:8080/"
        },
        "id": "Zv5f-b7SRd9i",
        "outputId": "37f08026-dc24-4ade-c6c4-01307cebe873"
      },
      "source": [
        "df.idxmax()"
      ],
      "execution_count": 38,
      "outputs": [
        {
          "output_type": "execute_result",
          "data": {
            "text/plain": [
              "A   2020-03-22\n",
              "B   2021-01-09\n",
              "dtype: datetime64[ns]"
            ]
          },
          "metadata": {
            "tags": []
          },
          "execution_count": 38
        }
      ]
    },
    {
      "cell_type": "code",
      "metadata": {
        "colab": {
          "base_uri": "https://localhost:8080/"
        },
        "id": "Id2aFIoWRt3k",
        "outputId": "58445ae2-1b7c-4bfc-8a03-b669c0ca9f6c"
      },
      "source": [
        "df['A'].idxmax()"
      ],
      "execution_count": 39,
      "outputs": [
        {
          "output_type": "execute_result",
          "data": {
            "text/plain": [
              "Timestamp('2020-03-22 00:00:00')"
            ]
          },
          "metadata": {
            "tags": []
          },
          "execution_count": 39
        }
      ]
    },
    {
      "cell_type": "code",
      "metadata": {
        "id": "gFF29SdfR2rz"
      },
      "source": [
        ""
      ],
      "execution_count": null,
      "outputs": []
    }
  ]
}